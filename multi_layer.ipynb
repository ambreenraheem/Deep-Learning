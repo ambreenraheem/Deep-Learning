{
  "nbformat": 4,
  "nbformat_minor": 0,
  "metadata": {
    "colab": {
      "provenance": [],
      "authorship_tag": "ABX9TyOixuHR7OsG/wZkYd8LAjEn",
      "include_colab_link": true
    },
    "kernelspec": {
      "name": "python3",
      "display_name": "Python 3"
    },
    "language_info": {
      "name": "python"
    }
  },
  "cells": [
    {
      "cell_type": "markdown",
      "metadata": {
        "id": "view-in-github",
        "colab_type": "text"
      },
      "source": [
        "<a href=\"https://colab.research.google.com/github/ambreenraheem/Deep-Learning/blob/main/multi_layer.ipynb\" target=\"_parent\"><img src=\"https://colab.research.google.com/assets/colab-badge.svg\" alt=\"Open In Colab\"/></a>"
      ]
    },
    {
      "cell_type": "markdown",
      "source": [
        "# Ambreen Abdul Raheem\n",
        "# Microsoft Power BI Data Analyst(Upwork Freelancer)\n",
        "Date: 4-July-2025"
      ],
      "metadata": {
        "id": "ml-08G4pZ0VB"
      }
    },
    {
      "cell_type": "markdown",
      "source": [
        "## Now a days working on Deep Learning\n",
        "\n",
        "\n",
        "**🚨 Taxi Trip Fraud Detection with Deep Learning! 🚨**\n",
        "\n",
        "Excited to share my latest project where I applied Deep Learning on real-world NYC Yellow Taxi dataset to detect fraudulent trips using anomaly detection techniques.\n",
        "\n",
        "✨ Key Highlights:\\\n",
        "✅ Cleaned & preprocessed millions of taxi ride records\\\n",
        "✅ Engineered meaningful features like trip duration, fare per mile, and tip percentage\\\n",
        "✅ Built an Autoencoder Neural Network to learn normal trip patterns\\\n",
        "✅ Detected potential frauds based on reconstruction errors\\\n",
        "✅ Visualized anomalies and generated a clean dataset ready for further BI reporting\n",
        "\n",
        "**💡 This project taught me:**\\\n",
        "🔍 How to apply Deep Learning beyond traditional classification tasks\\\n",
        "📊 How to work with large, real-world datasets in Python\\\n",
        "⚡ How to connect data science with real business impact (fraud prevention!)\n",
        "\n",
        "🚀 Next step: Planning to integrate this clean dataset into Power BI dashboards to provide actionable fraud insights.\n",
        "\n",
        "🔗 The full cleaned code & process is available on my GitHub (https://github.com/ambreenraheem/Deep-Learning/tree/main)\n",
        "\n"
      ],
      "metadata": {
        "id": "RCOMm1eTXrzC"
      }
    },
    {
      "cell_type": "markdown",
      "source": [
        "# About Dataset\n",
        "\n",
        "TLC Trip Record Data\n",
        "\n",
        "Yellow and green taxi trip records include fields capturing pickup and drop-off dates/times, pickup and drop-off locations, trip distances, itemized fares, rate types, payment types, and driver-reported passenger counts. The data used in the attached datasets were collected and provided to the NYC Taxi and Limousine Commission (TLC) by technology providers authorized under the Taxicab & Livery Passenger Enhancement Programs (TPEP/LPEP). The trip data was not created by the TLC, and TLC makes no representations as to the accuracy of these data.\n",
        "\n",
        "**Click on the link:** (https://www.nyc.gov/site/tlc/about/tlc-trip-record-data.page)"
      ],
      "metadata": {
        "id": "zQcemqEScJgP"
      }
    },
    {
      "cell_type": "code",
      "source": [
        "# Full Cleaned Fraud Detection Project with Taxi Data\n",
        "\n",
        "import pandas as pd\n",
        "import numpy as np\n",
        "import tensorflow as tf\n",
        "from sklearn.preprocessing import StandardScaler\n",
        "import matplotlib.pyplot as plt"
      ],
      "metadata": {
        "id": "QXf1hkf6JaEX"
      },
      "execution_count": null,
      "outputs": []
    },
    {
      "cell_type": "code",
      "source": [
        "# ------------------- Step 1: Load Data ----------------------\n",
        "\n",
        "# Example file path (replace with your correct path)\n",
        "FILE_PATH = '/content/yellow_tripdata_2025-01.parquet'\n",
        "\n",
        "# Load dataset with only relevant columns for fraud detection\n",
        "df = pd.read_parquet(FILE_PATH, columns=[\n",
        "    'tpep_pickup_datetime', 'tpep_dropoff_datetime',\n",
        "    'trip_distance', 'fare_amount', 'passenger_count',\n",
        "    'tip_amount', 'total_amount'\n",
        "])\n",
        "\n",
        "print(\"Original Data Shape:\", df.shape)"
      ],
      "metadata": {
        "colab": {
          "base_uri": "https://localhost:8080/"
        },
        "id": "qmcsiN8dJez5",
        "outputId": "97aa9be5-073d-4056-c470-0810a1b44fd3"
      },
      "execution_count": null,
      "outputs": [
        {
          "output_type": "stream",
          "name": "stdout",
          "text": [
            "Original Data Shape: (3475226, 7)\n"
          ]
        }
      ]
    },
    {
      "cell_type": "markdown",
      "source": [
        "### Converting TLC Taxi dataset in csv file for future use"
      ],
      "metadata": {
        "id": "0TNZ_ahqW6Ae"
      }
    },
    {
      "cell_type": "code",
      "source": [
        "# converting dataset in csv file for future use\n",
        "\n",
        "df.to_csv(FILE_PATH.replace('.parquet', '.csv'), index=False)\n",
        "print(\"Cleaned & labeled data saved to csv:\", FILE_PATH)\n"
      ],
      "metadata": {
        "colab": {
          "base_uri": "https://localhost:8080/"
        },
        "id": "JNBPYiJ7UENY",
        "outputId": "7e149769-f9a1-4514-e83a-2d0be183bb52"
      },
      "execution_count": 15,
      "outputs": [
        {
          "output_type": "stream",
          "name": "stdout",
          "text": [
            "Cleaned & labeled data saved to csv: /content/yellow_tripdata_2025-01.parquet\n"
          ]
        }
      ]
    },
    {
      "cell_type": "code",
      "source": [
        "# ------------------- Step 2: Cleaning ----------------------\n",
        "\n",
        "# Remove invalid or impossible records\n",
        "df = df[(df['trip_distance'] >= 0) & (df['fare_amount'] > 0) & (df['total_amount'] > 0)]\n",
        "df = df[(df['passenger_count'] > 0) & (df['passenger_count'] <= 6)]\n",
        "\n",
        "print(\"Cleaned Data Shape:\", df.shape)"
      ],
      "metadata": {
        "colab": {
          "base_uri": "https://localhost:8080/"
        },
        "id": "TteCygH-Jr0I",
        "outputId": "8d1669d6-14fc-4353-dd0a-12047aaa479e"
      },
      "execution_count": null,
      "outputs": [
        {
          "output_type": "stream",
          "name": "stdout",
          "text": [
            "Cleaned Data Shape: (2849787, 7)\n"
          ]
        }
      ]
    },
    {
      "cell_type": "code",
      "source": [
        "# ------------------- Step 3: Feature Engineering ----------------------\n",
        "\n",
        "# Calculate trip duration in minutes\n",
        "df['tpep_pickup_datetime'] = pd.to_datetime(df['tpep_pickup_datetime'])\n",
        "df['tpep_dropoff_datetime'] = pd.to_datetime(df['tpep_dropoff_datetime'])\n",
        "df['trip_duration'] = (df['tpep_dropoff_datetime'] - df['tpep_pickup_datetime']).dt.total_seconds() / 60\n",
        "\n",
        "df = df[(df['trip_duration'] > 0) & (df['trip_duration'] < 180)]  # Max 3-hour trips only\n",
        "\n",
        "# Fare per Mile (avoid division by zero)\n",
        "df['fare_per_mile'] = df['fare_amount'] / df['trip_distance'].replace(0, np.nan)\n",
        "df['fare_per_mile'].fillna(0, inplace=True)\n",
        "\n",
        "# Tip Percentage\n",
        "df['tip_percent'] = df['tip_amount'] / df['fare_amount'] * 100\n",
        "\n",
        "# Final Features for Model\n",
        "features = df[['trip_distance', 'fare_amount', 'passenger_count', 'trip_duration', 'fare_per_mile', 'tip_percent']]"
      ],
      "metadata": {
        "colab": {
          "base_uri": "https://localhost:8080/"
        },
        "id": "KdRHnUd1KBgt",
        "outputId": "c196c805-83f2-4e1b-d0b2-2335e6b0120a"
      },
      "execution_count": null,
      "outputs": [
        {
          "output_type": "stream",
          "name": "stderr",
          "text": [
            "/tmp/ipython-input-5-3964161085.py:12: FutureWarning: A value is trying to be set on a copy of a DataFrame or Series through chained assignment using an inplace method.\n",
            "The behavior will change in pandas 3.0. This inplace method will never work because the intermediate object on which we are setting values always behaves as a copy.\n",
            "\n",
            "For example, when doing 'df[col].method(value, inplace=True)', try using 'df.method({col: value}, inplace=True)' or df[col] = df[col].method(value) instead, to perform the operation inplace on the original object.\n",
            "\n",
            "\n",
            "  df['fare_per_mile'].fillna(0, inplace=True)\n"
          ]
        }
      ]
    },
    {
      "cell_type": "code",
      "source": [
        "# ------------------- Step 4: Scaling ----------------------\n",
        "\n",
        "scaler = StandardScaler()\n",
        "X_scaled = scaler.fit_transform(features)"
      ],
      "metadata": {
        "id": "aQzpf2VxKR8f"
      },
      "execution_count": null,
      "outputs": []
    },
    {
      "cell_type": "markdown",
      "source": [
        "You cannot directly use accuracy as a metric for compiling this autoencoder model.\n",
        "\n",
        "Autoencoders are unsupervised learning models primarily used for dimensionality reduction or anomaly detection. They are trained to reconstruct their input, and the goal is to minimize the reconstruction loss (like Mean Squared Error - MSE in this case). Accuracy is a metric used for classification tasks, where you are trying to predict a specific class label.\n",
        "\n",
        "Since your autoencoder is not performing a classification task, accuracy is not a relevant metric to evaluate its performance. The loss (MSE) is the appropriate metric here, as it measures how well the autoencoder is reconstructing the input data.\n",
        "\n",
        "If you were to use this autoencoder for anomaly detection, you would typically set a threshold on the reconstruction error to identify anomalies, rather than using accuracy."
      ],
      "metadata": {
        "id": "skwUv-bFNXWd"
      }
    },
    {
      "cell_type": "code",
      "source": [
        "# ------------------- Step 5: Autoencoder Model ----------------------\n",
        "\n",
        "input_dim = X_scaled.shape[1]\n",
        "\n",
        "model = tf.keras.Sequential([\n",
        "    tf.keras.layers.Dense(64, activation='relu', input_shape=(input_dim,)),\n",
        "    tf.keras.layers.Dense(32, activation='relu'),\n",
        "    tf.keras.layers.Dense(64, activation='relu'),\n",
        "    tf.keras.layers.Dense(input_dim)  # Output same dimension as input\n",
        "])\n",
        "\n",
        "model.compile(optimizer='adam', loss='mse')\n",
        "\n",
        "# Train only on normal data (assuming majority is normal)\n",
        "model.fit(X_scaled, X_scaled, epochs=50, batch_size=512, validation_split=0.1)"
      ],
      "metadata": {
        "colab": {
          "base_uri": "https://localhost:8080/"
        },
        "id": "PYw05jXjKUdV",
        "outputId": "a2a2beae-d147-4a52-b2e5-5164eb74a199"
      },
      "execution_count": null,
      "outputs": [
        {
          "output_type": "stream",
          "name": "stderr",
          "text": [
            "/usr/local/lib/python3.11/dist-packages/keras/src/layers/core/dense.py:87: UserWarning: Do not pass an `input_shape`/`input_dim` argument to a layer. When using Sequential models, prefer using an `Input(shape)` object as the first layer in the model instead.\n",
            "  super().__init__(activity_regularizer=activity_regularizer, **kwargs)\n"
          ]
        },
        {
          "output_type": "stream",
          "name": "stdout",
          "text": [
            "Epoch 1/50\n",
            "\u001b[1m5005/5005\u001b[0m \u001b[32m━━━━━━━━━━━━━━━━━━━━\u001b[0m\u001b[37m\u001b[0m \u001b[1m15s\u001b[0m 3ms/step - loss: 0.0809 - val_loss: 0.7068\n",
            "Epoch 2/50\n",
            "\u001b[1m5005/5005\u001b[0m \u001b[32m━━━━━━━━━━━━━━━━━━━━\u001b[0m\u001b[37m\u001b[0m \u001b[1m21s\u001b[0m 3ms/step - loss: 0.3794 - val_loss: 0.5836\n",
            "Epoch 3/50\n",
            "\u001b[1m5005/5005\u001b[0m \u001b[32m━━━━━━━━━━━━━━━━━━━━\u001b[0m\u001b[37m\u001b[0m \u001b[1m23s\u001b[0m 3ms/step - loss: 0.0973 - val_loss: 0.4307\n",
            "Epoch 4/50\n",
            "\u001b[1m5005/5005\u001b[0m \u001b[32m━━━━━━━━━━━━━━━━━━━━\u001b[0m\u001b[37m\u001b[0m \u001b[1m21s\u001b[0m 3ms/step - loss: 1.2589 - val_loss: 0.3336\n",
            "Epoch 5/50\n",
            "\u001b[1m5005/5005\u001b[0m \u001b[32m━━━━━━━━━━━━━━━━━━━━\u001b[0m\u001b[37m\u001b[0m \u001b[1m16s\u001b[0m 3ms/step - loss: 0.5832 - val_loss: 0.4362\n",
            "Epoch 6/50\n",
            "\u001b[1m5005/5005\u001b[0m \u001b[32m━━━━━━━━━━━━━━━━━━━━\u001b[0m\u001b[37m\u001b[0m \u001b[1m22s\u001b[0m 3ms/step - loss: 0.0533 - val_loss: 0.1258\n",
            "Epoch 7/50\n",
            "\u001b[1m5005/5005\u001b[0m \u001b[32m━━━━━━━━━━━━━━━━━━━━\u001b[0m\u001b[37m\u001b[0m \u001b[1m19s\u001b[0m 3ms/step - loss: 1.9301 - val_loss: 0.0776\n",
            "Epoch 8/50\n",
            "\u001b[1m5005/5005\u001b[0m \u001b[32m━━━━━━━━━━━━━━━━━━━━\u001b[0m\u001b[37m\u001b[0m \u001b[1m16s\u001b[0m 3ms/step - loss: 0.3811 - val_loss: 0.7191\n",
            "Epoch 9/50\n",
            "\u001b[1m5005/5005\u001b[0m \u001b[32m━━━━━━━━━━━━━━━━━━━━\u001b[0m\u001b[37m\u001b[0m \u001b[1m17s\u001b[0m 3ms/step - loss: 0.3095 - val_loss: 0.4310\n",
            "Epoch 10/50\n",
            "\u001b[1m5005/5005\u001b[0m \u001b[32m━━━━━━━━━━━━━━━━━━━━\u001b[0m\u001b[37m\u001b[0m \u001b[1m16s\u001b[0m 3ms/step - loss: 0.9116 - val_loss: 2.0706\n",
            "Epoch 11/50\n",
            "\u001b[1m5005/5005\u001b[0m \u001b[32m━━━━━━━━━━━━━━━━━━━━\u001b[0m\u001b[37m\u001b[0m \u001b[1m22s\u001b[0m 3ms/step - loss: 0.3889 - val_loss: 0.1793\n",
            "Epoch 12/50\n",
            "\u001b[1m5005/5005\u001b[0m \u001b[32m━━━━━━━━━━━━━━━━━━━━\u001b[0m\u001b[37m\u001b[0m \u001b[1m19s\u001b[0m 3ms/step - loss: 0.1262 - val_loss: 1.4078\n",
            "Epoch 13/50\n",
            "\u001b[1m5005/5005\u001b[0m \u001b[32m━━━━━━━━━━━━━━━━━━━━\u001b[0m\u001b[37m\u001b[0m \u001b[1m16s\u001b[0m 3ms/step - loss: 0.1139 - val_loss: 1.4166\n",
            "Epoch 14/50\n",
            "\u001b[1m5005/5005\u001b[0m \u001b[32m━━━━━━━━━━━━━━━━━━━━\u001b[0m\u001b[37m\u001b[0m \u001b[1m17s\u001b[0m 3ms/step - loss: 0.1516 - val_loss: 0.3604\n",
            "Epoch 15/50\n",
            "\u001b[1m5005/5005\u001b[0m \u001b[32m━━━━━━━━━━━━━━━━━━━━\u001b[0m\u001b[37m\u001b[0m \u001b[1m16s\u001b[0m 3ms/step - loss: 0.1254 - val_loss: 0.4068\n",
            "Epoch 16/50\n",
            "\u001b[1m5005/5005\u001b[0m \u001b[32m━━━━━━━━━━━━━━━━━━━━\u001b[0m\u001b[37m\u001b[0m \u001b[1m16s\u001b[0m 3ms/step - loss: 0.0470 - val_loss: 0.7261\n",
            "Epoch 17/50\n",
            "\u001b[1m5005/5005\u001b[0m \u001b[32m━━━━━━━━━━━━━━━━━━━━\u001b[0m\u001b[37m\u001b[0m \u001b[1m20s\u001b[0m 3ms/step - loss: 0.1964 - val_loss: 0.3772\n",
            "Epoch 18/50\n",
            "\u001b[1m5005/5005\u001b[0m \u001b[32m━━━━━━━━━━━━━━━━━━━━\u001b[0m\u001b[37m\u001b[0m \u001b[1m16s\u001b[0m 3ms/step - loss: 0.2435 - val_loss: 0.3399\n",
            "Epoch 19/50\n",
            "\u001b[1m5005/5005\u001b[0m \u001b[32m━━━━━━━━━━━━━━━━━━━━\u001b[0m\u001b[37m\u001b[0m \u001b[1m21s\u001b[0m 3ms/step - loss: 0.3369 - val_loss: 0.3811\n",
            "Epoch 20/50\n",
            "\u001b[1m5005/5005\u001b[0m \u001b[32m━━━━━━━━━━━━━━━━━━━━\u001b[0m\u001b[37m\u001b[0m \u001b[1m16s\u001b[0m 3ms/step - loss: 0.1164 - val_loss: 0.1375\n",
            "Epoch 21/50\n",
            "\u001b[1m5005/5005\u001b[0m \u001b[32m━━━━━━━━━━━━━━━━━━━━\u001b[0m\u001b[37m\u001b[0m \u001b[1m17s\u001b[0m 3ms/step - loss: 0.6616 - val_loss: 0.0722\n",
            "Epoch 22/50\n",
            "\u001b[1m5005/5005\u001b[0m \u001b[32m━━━━━━━━━━━━━━━━━━━━\u001b[0m\u001b[37m\u001b[0m \u001b[1m16s\u001b[0m 3ms/step - loss: 0.1595 - val_loss: 1.2286\n",
            "Epoch 23/50\n",
            "\u001b[1m5005/5005\u001b[0m \u001b[32m━━━━━━━━━━━━━━━━━━━━\u001b[0m\u001b[37m\u001b[0m \u001b[1m16s\u001b[0m 3ms/step - loss: 0.3248 - val_loss: 0.0417\n",
            "Epoch 24/50\n",
            "\u001b[1m5005/5005\u001b[0m \u001b[32m━━━━━━━━━━━━━━━━━━━━\u001b[0m\u001b[37m\u001b[0m \u001b[1m21s\u001b[0m 3ms/step - loss: 0.0674 - val_loss: 0.2436\n",
            "Epoch 25/50\n",
            "\u001b[1m5005/5005\u001b[0m \u001b[32m━━━━━━━━━━━━━━━━━━━━\u001b[0m\u001b[37m\u001b[0m \u001b[1m20s\u001b[0m 3ms/step - loss: 0.1375 - val_loss: 0.2250\n",
            "Epoch 26/50\n",
            "\u001b[1m5005/5005\u001b[0m \u001b[32m━━━━━━━━━━━━━━━━━━━━\u001b[0m\u001b[37m\u001b[0m \u001b[1m20s\u001b[0m 3ms/step - loss: 0.2785 - val_loss: 0.6498\n",
            "Epoch 27/50\n",
            "\u001b[1m5005/5005\u001b[0m \u001b[32m━━━━━━━━━━━━━━━━━━━━\u001b[0m\u001b[37m\u001b[0m \u001b[1m16s\u001b[0m 3ms/step - loss: 0.0848 - val_loss: 1.1855\n",
            "Epoch 28/50\n",
            "\u001b[1m5005/5005\u001b[0m \u001b[32m━━━━━━━━━━━━━━━━━━━━\u001b[0m\u001b[37m\u001b[0m \u001b[1m18s\u001b[0m 3ms/step - loss: 0.7611 - val_loss: 0.0853\n",
            "Epoch 29/50\n",
            "\u001b[1m5005/5005\u001b[0m \u001b[32m━━━━━━━━━━━━━━━━━━━━\u001b[0m\u001b[37m\u001b[0m \u001b[1m16s\u001b[0m 3ms/step - loss: 0.0824 - val_loss: 0.1147\n",
            "Epoch 30/50\n",
            "\u001b[1m5005/5005\u001b[0m \u001b[32m━━━━━━━━━━━━━━━━━━━━\u001b[0m\u001b[37m\u001b[0m \u001b[1m22s\u001b[0m 3ms/step - loss: 0.0885 - val_loss: 0.0461\n",
            "Epoch 31/50\n",
            "\u001b[1m5005/5005\u001b[0m \u001b[32m━━━━━━━━━━━━━━━━━━━━\u001b[0m\u001b[37m\u001b[0m \u001b[1m17s\u001b[0m 3ms/step - loss: 0.2864 - val_loss: 0.2807\n",
            "Epoch 32/50\n",
            "\u001b[1m5005/5005\u001b[0m \u001b[32m━━━━━━━━━━━━━━━━━━━━\u001b[0m\u001b[37m\u001b[0m \u001b[1m16s\u001b[0m 3ms/step - loss: 0.4324 - val_loss: 0.3655\n",
            "Epoch 33/50\n",
            "\u001b[1m5005/5005\u001b[0m \u001b[32m━━━━━━━━━━━━━━━━━━━━\u001b[0m\u001b[37m\u001b[0m \u001b[1m20s\u001b[0m 3ms/step - loss: 0.3369 - val_loss: 4.1614\n",
            "Epoch 34/50\n",
            "\u001b[1m5005/5005\u001b[0m \u001b[32m━━━━━━━━━━━━━━━━━━━━\u001b[0m\u001b[37m\u001b[0m \u001b[1m23s\u001b[0m 4ms/step - loss: 1.7713 - val_loss: 0.2828\n",
            "Epoch 35/50\n",
            "\u001b[1m5005/5005\u001b[0m \u001b[32m━━━━━━━━━━━━━━━━━━━━\u001b[0m\u001b[37m\u001b[0m \u001b[1m18s\u001b[0m 3ms/step - loss: 0.1514 - val_loss: 0.5198\n",
            "Epoch 36/50\n",
            "\u001b[1m5005/5005\u001b[0m \u001b[32m━━━━━━━━━━━━━━━━━━━━\u001b[0m\u001b[37m\u001b[0m \u001b[1m21s\u001b[0m 3ms/step - loss: 0.0830 - val_loss: 0.0472\n",
            "Epoch 37/50\n",
            "\u001b[1m5005/5005\u001b[0m \u001b[32m━━━━━━━━━━━━━━━━━━━━\u001b[0m\u001b[37m\u001b[0m \u001b[1m20s\u001b[0m 3ms/step - loss: 0.0920 - val_loss: 0.1932\n",
            "Epoch 38/50\n",
            "\u001b[1m5005/5005\u001b[0m \u001b[32m━━━━━━━━━━━━━━━━━━━━\u001b[0m\u001b[37m\u001b[0m \u001b[1m17s\u001b[0m 3ms/step - loss: 0.1703 - val_loss: 0.3172\n",
            "Epoch 39/50\n",
            "\u001b[1m5005/5005\u001b[0m \u001b[32m━━━━━━━━━━━━━━━━━━━━\u001b[0m\u001b[37m\u001b[0m \u001b[1m19s\u001b[0m 3ms/step - loss: 0.2363 - val_loss: 1.3794\n",
            "Epoch 40/50\n",
            "\u001b[1m5005/5005\u001b[0m \u001b[32m━━━━━━━━━━━━━━━━━━━━\u001b[0m\u001b[37m\u001b[0m \u001b[1m18s\u001b[0m 3ms/step - loss: 0.2850 - val_loss: 0.1361\n",
            "Epoch 41/50\n",
            "\u001b[1m5005/5005\u001b[0m \u001b[32m━━━━━━━━━━━━━━━━━━━━\u001b[0m\u001b[37m\u001b[0m \u001b[1m20s\u001b[0m 3ms/step - loss: 0.1074 - val_loss: 1.2631\n",
            "Epoch 42/50\n",
            "\u001b[1m5005/5005\u001b[0m \u001b[32m━━━━━━━━━━━━━━━━━━━━\u001b[0m\u001b[37m\u001b[0m \u001b[1m22s\u001b[0m 4ms/step - loss: 0.4674 - val_loss: 0.5201\n",
            "Epoch 43/50\n",
            "\u001b[1m5005/5005\u001b[0m \u001b[32m━━━━━━━━━━━━━━━━━━━━\u001b[0m\u001b[37m\u001b[0m \u001b[1m19s\u001b[0m 3ms/step - loss: 0.2961 - val_loss: 1.9573\n",
            "Epoch 44/50\n",
            "\u001b[1m5005/5005\u001b[0m \u001b[32m━━━━━━━━━━━━━━━━━━━━\u001b[0m\u001b[37m\u001b[0m \u001b[1m18s\u001b[0m 3ms/step - loss: 1.8043 - val_loss: 4.6406\n",
            "Epoch 45/50\n",
            "\u001b[1m5005/5005\u001b[0m \u001b[32m━━━━━━━━━━━━━━━━━━━━\u001b[0m\u001b[37m\u001b[0m \u001b[1m19s\u001b[0m 3ms/step - loss: 0.5231 - val_loss: 0.7719\n",
            "Epoch 46/50\n",
            "\u001b[1m5005/5005\u001b[0m \u001b[32m━━━━━━━━━━━━━━━━━━━━\u001b[0m\u001b[37m\u001b[0m \u001b[1m21s\u001b[0m 3ms/step - loss: 0.3479 - val_loss: 0.9273\n",
            "Epoch 47/50\n",
            "\u001b[1m5005/5005\u001b[0m \u001b[32m━━━━━━━━━━━━━━━━━━━━\u001b[0m\u001b[37m\u001b[0m \u001b[1m20s\u001b[0m 3ms/step - loss: 0.0800 - val_loss: 0.6637\n",
            "Epoch 48/50\n",
            "\u001b[1m5005/5005\u001b[0m \u001b[32m━━━━━━━━━━━━━━━━━━━━\u001b[0m\u001b[37m\u001b[0m \u001b[1m21s\u001b[0m 3ms/step - loss: 0.1447 - val_loss: 0.1434\n",
            "Epoch 49/50\n",
            "\u001b[1m5005/5005\u001b[0m \u001b[32m━━━━━━━━━━━━━━━━━━━━\u001b[0m\u001b[37m\u001b[0m \u001b[1m21s\u001b[0m 3ms/step - loss: 0.1571 - val_loss: 0.0572\n",
            "Epoch 50/50\n",
            "\u001b[1m5005/5005\u001b[0m \u001b[32m━━━━━━━━━━━━━━━━━━━━\u001b[0m\u001b[37m\u001b[0m \u001b[1m20s\u001b[0m 3ms/step - loss: 0.2685 - val_loss: 1.1771\n"
          ]
        },
        {
          "output_type": "execute_result",
          "data": {
            "text/plain": [
              "<keras.src.callbacks.history.History at 0x7913b73d5890>"
            ]
          },
          "metadata": {},
          "execution_count": 7
        }
      ]
    },
    {
      "cell_type": "code",
      "source": [
        "# ------------------- Step 6: Anomaly Detection ----------------------\n",
        "\n",
        "reconstructions = model.predict(X_scaled)\n",
        "mse = np.mean(np.power(X_scaled - reconstructions, 2), axis=1)\n",
        "\n",
        "# Set dynamic threshold\n",
        "threshold = np.mean(mse) + 3 * np.std(mse)\n",
        "\n",
        "# Label Frauds\n",
        "df['mse'] = mse\n",
        "df['fraud_flag'] = df['mse'] > threshold\n",
        "\n",
        "print(\"Potential Frauds Detected:\", df['fraud_flag'].sum())"
      ],
      "metadata": {
        "colab": {
          "base_uri": "https://localhost:8080/"
        },
        "id": "8Zkzco8zRS2i",
        "outputId": "e487cc37-dbc0-4263-92b0-cf0df33ee307"
      },
      "execution_count": null,
      "outputs": [
        {
          "output_type": "stream",
          "name": "stdout",
          "text": [
            "\u001b[1m88965/88965\u001b[0m \u001b[32m━━━━━━━━━━━━━━━━━━━━\u001b[0m\u001b[37m\u001b[0m \u001b[1m112s\u001b[0m 1ms/step\n",
            "Potential Frauds Detected: 10\n"
          ]
        }
      ]
    },
    {
      "cell_type": "code",
      "source": [
        "# ------------------- Step 7: Visualizations ----------------------\n",
        "\n",
        "plt.hist(mse, bins=50)\n",
        "plt.axvline(threshold, color='red', linestyle='dashed', linewidth=5, label='Threshold')\n",
        "plt.xlabel('MSE')\n",
        "plt.ylabel('Frequency')\n",
        "plt.title(\"MSE Distribution with Fraud Threshold\")\n",
        "plt.show()\n",
        "\n",
        "print(df[df['fraud_flag'] == True].head())"
      ],
      "metadata": {
        "colab": {
          "base_uri": "https://localhost:8080/",
          "height": 941
        },
        "id": "PffzeDFNSJEw",
        "outputId": "7c9ac11d-19e3-4a6c-9ffb-73cfcc17794f"
      },
      "execution_count": null,
      "outputs": [
        {
          "output_type": "display_data",
          "data": {
            "text/plain": [
              "<Figure size 640x480 with 1 Axes>"
            ],
            "image/png": "[encoded data removed]"
          },
          "metadata": {}
        },
        {
          "output_type": "stream",
          "name": "stdout",
          "text": [
            "        tpep_pickup_datetime tpep_dropoff_datetime  trip_distance  \\\n",
            "285563   2025-01-04 15:58:07   2025-01-04 15:58:55           0.32   \n",
            "708849   2025-01-09 12:19:06   2025-01-09 13:14:26        4020.04   \n",
            "1132222  2025-01-13 18:26:57   2025-01-13 18:27:21           0.00   \n",
            "1306174  2025-01-15 14:31:32   2025-01-15 14:32:23           0.00   \n",
            "1780915  2025-01-20 12:07:18   2025-01-20 12:12:42           1.60   \n",
            "\n",
            "         fare_amount  passenger_count  tip_amount  total_amount  \\\n",
            "285563          0.01              1.0        40.0         63.33   \n",
            "708849         82.80              1.0        15.0        101.05   \n",
            "1132222         0.01              1.0        24.0         25.76   \n",
            "1306174         0.01              1.0        20.0         21.76   \n",
            "1780915    863372.12              1.0         0.0     863380.37   \n",
            "\n",
            "         trip_duration  fare_per_mile    tip_percent            mse  \\\n",
            "285563        0.800000       0.031250  400000.000000    3927.499537   \n",
            "708849       55.333333       0.020597      18.115942    1678.580523   \n",
            "1132222       0.400000       0.000000  240000.000000    1405.381342   \n",
            "1306174       0.850000       0.000000  200000.000000     972.320581   \n",
            "1780915       5.400000  539607.575000       0.000000  213655.574152   \n",
            "\n",
            "         fraud_flag  \n",
            "285563         True  \n",
            "708849         True  \n",
            "1132222        True  \n",
            "1306174        True  \n",
            "1780915        True  \n"
          ]
        }
      ]
    },
    {
      "cell_type": "code",
      "source": [
        "# ------------------- Step 8: Save Cleaned + Fraud Labels ----------------------\n",
        "\n",
        "# Save for further analysis or Power BI\n",
        "output_path = '/content/cleaned_taxi_data_with_fraud.parquet'\n",
        "df.to_parquet(output_path)\n",
        "print(\"Cleaned & labeled data saved to:\", output_path)"
      ],
      "metadata": {
        "colab": {
          "base_uri": "https://localhost:8080/"
        },
        "id": "nBpNxCqrSlr4",
        "outputId": "a849063b-7da7-418a-8b7e-60ce1174fd66"
      },
      "execution_count": null,
      "outputs": [
        {
          "output_type": "stream",
          "name": "stdout",
          "text": [
            "Cleaned & labeled data saved to: /content/cleaned_taxi_data_with_fraud.parquet\n"
          ]
        }
      ]
    }
  ]
}