{
  "nbformat": 4,
  "nbformat_minor": 0,
  "metadata": {
    "colab": {
      "provenance": [],
      "include_colab_link": true
    },
    "kernelspec": {
      "name": "python3",
      "display_name": "Python 3"
    },
    "language_info": {
      "name": "python"
    }
  },
  "cells": [
    {
      "cell_type": "markdown",
      "metadata": {
        "id": "view-in-github",
        "colab_type": "text"
      },
      "source": [
        "<a href=\"https://colab.research.google.com/github/ambreenraheem/Deep-Learning/blob/main/Dl_Final_Paper_MCQ's.ipynb\" target=\"_parent\"><img src=\"https://colab.research.google.com/assets/colab-badge.svg\" alt=\"Open In Colab\"/></a>"
      ]
    },
    {
      "cell_type": "markdown",
      "source": [
        "# Name: Ambreen Abdul Raheem\n",
        "# Instructor: Sir Sajid Majeed\n",
        "# Exam: Final Exam Paper\n",
        "# date: 15-June-2025\n",
        "# Module: Deep Learning"
      ],
      "metadata": {
        "id": "f_8_H-tYMqG1"
      }
    },
    {
      "cell_type": "markdown",
      "source": [
        "# Q:no.1- All answers with correct options:\n",
        "\n",
        "## 1- What is the primary purpose of using dropout in a neural network?\n",
        "### B) To reduce overfitting\n",
        "\n",
        "## 2- In Convolutional Neural Networks (CNNs), what is the main role of the pooling layer?\n",
        "### B) To reduce spatial dimensions and computation\n",
        "\n",
        "## 3- What is the primary reason for using convolutional layers in CNNs instead of fully connected layers for image data?\n",
        "### C) They preserve spatial relationships and reduce parameter count\n",
        "\n",
        "## 4-In image classification, what does the Softmax layer do at the output of a CNN?\n",
        "### C) Converts logits to class probabilities\n",
        "\n",
        "## 5-Which of the following data augmentation techniques is most useful for making CNNs invariant to image orientation?\n",
        "###  B) Horizontal and vertical flipping\n"
      ],
      "metadata": {
        "id": "kcDj-jArMjS-"
      }
    },
    {
      "cell_type": "code",
      "execution_count": null,
      "metadata": {
        "id": "WARivnRtMhd1"
      },
      "outputs": [],
      "source": []
    }
  ]
}